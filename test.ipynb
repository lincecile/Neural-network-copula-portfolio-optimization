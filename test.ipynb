{
 "cells": [
  {
   "cell_type": "code",
   "execution_count": 1,
   "id": "1049d774",
   "metadata": {},
   "outputs": [],
   "source": [
    "import pandas as pd\n",
    "import warnings\n",
    "import matplotlib.pyplot as plt\n",
    "from statsmodels.graphics.tsaplots import plot_acf, plot_pacf\n",
    "from clean_df_all import df_total_set, df_in_sample_set, df_training_set, df_test_set, df_out_sample_set\n",
    "\n",
    "from arma.arma import arma_model\n",
    "\n",
    "\n",
    "warnings.filterwarnings(\"ignore\")"
   ]
  },
  {
   "cell_type": "code",
   "execution_count": 2,
   "id": "06f83d04",
   "metadata": {},
   "outputs": [
    {
     "data": {
      "application/vnd.microsoft.datawrangler.viewer.v0+json": {
       "columns": [
        {
         "name": "index",
         "rawType": "datetime64[ns]",
         "type": "datetime"
        },
        {
         "name": "SPY US Equity",
         "rawType": "float64",
         "type": "float"
        },
        {
         "name": "DIA US Equity",
         "rawType": "float64",
         "type": "float"
        },
        {
         "name": "QQQ US Equity",
         "rawType": "float64",
         "type": "float"
        }
       ],
       "conversionMethod": "pd.DataFrame",
       "ref": "4535d09a-2095-44c5-89f0-0c1736362e4a",
       "rows": [
        [
         "2011-01-03 00:00:00",
         "0.010337972166998055",
         "0.006745654241978816",
         "0.015607785530664664"
        ],
        [
         "2011-01-04 00:00:00",
         "-0.000550964187327807",
         "0.001975775277038183",
         "-0.0008135960947387444"
        ],
        [
         "2011-01-05 00:00:00",
         "0.0051976689242401175",
         "0.003429355281207247",
         "0.00859495159685153"
        ],
        [
         "2011-01-06 00:00:00",
         "-0.0019586336571607577",
         "-0.0022214627477785687",
         "0.0032292787944026013"
        ],
        [
         "2011-01-07 00:00:00",
         "-0.0019624774315095683",
         "-0.0017982531255352763",
         "-0.0008941344778254923"
        ],
        [
         "2011-01-10 00:00:00",
         "-0.001258455246185286",
         "-0.003174058505618804",
         "0.003758725613030256"
        ],
        [
         "2011-01-11 00:00:00",
         "0.0035438651756183326",
         "0.003012048192771122",
         "0.0014265335235377208"
        ],
        [
         "2011-01-12 00:00:00",
         "0.009024562504904798",
         "0.007293007293007303",
         "0.0070334757834757955"
        ],
        [
         "2011-01-13 00:00:00",
         "-0.0016526675999378737",
         "-0.0017035775127768327",
         "0.00035363805145438576"
        ],
        [
         "2011-01-14 00:00:00",
         "0.007264299764348392",
         "0.004180887372013498",
         "0.0075121520106054"
        ],
        [
         "2011-01-18 00:00:00",
         "0.001701469450889448",
         "0.004588325261279724",
         "0.00280701754385948"
        ],
        [
         "2011-01-19 00:00:00",
         "-0.009805435453984046",
         "-0.0006089824917533404",
         "-0.011371588523442888"
        ],
        [
         "2011-01-20 00:00:00",
         "-0.0013255360623780632",
         "-0.00032160327696806323",
         "-0.007078393204742461"
        ],
        [
         "2011-01-21 00:00:00",
         "0.0022642098688319123",
         "0.0028784287165593003",
         "-0.007663518089467081"
        ],
        [
         "2011-01-24 00:00:00",
         "0.005686686920620021",
         "0.009285834880972565",
         "0.013829022988505857"
        ],
        [
         "2011-01-25 00:00:00",
         "0.0005422153369480931",
         "-0.0005854800936768711",
         "0.0014614703277235908"
        ],
        [
         "2011-01-26 00:00:00",
         "0.003870867848571713",
         "0.0010042681395932007",
         "0.0052624596471055884"
        ],
        [
         "2011-01-27 00:00:00",
         "0.002467802884244863",
         "0.0002508151492350841",
         "0.006158718986450928"
        ],
        [
         "2011-01-28 00:00:00",
         "-0.01746288176013544",
         "-0.013540621865596791",
         "-0.02535851696397351"
        ],
        [
         "2011-01-31 00:00:00",
         "0.007516442217350594",
         "0.004914421284528014",
         "0.004844787367665582"
        ],
        [
         "2011-02-01 00:00:00",
         "0.016008703761268173",
         "0.012563237774030345",
         "0.018750000000000044"
        ],
        [
         "2011-02-02 00:00:00",
         "-0.0019504359798072635",
         "8.327088017323625e-05",
         "-0.001665205959684446"
        ],
        [
         "2011-02-03 00:00:00",
         "0.0022607962601064457",
         "0.002248126561199104",
         "0.0017996664033008702"
        ],
        [
         "2011-02-04 00:00:00",
         "0.0028291787735128526",
         "0.0026584697183682504",
         "0.005564562064584111"
        ],
        [
         "2011-02-07 00:00:00",
         "0.006252382767823139",
         "0.005468555804126307",
         "0.004793028322439996"
        ],
        [
         "2011-02-08 00:00:00",
         "0.00454648783814493",
         "0.0065100947672023235",
         "0.0065047701647875655"
        ],
        [
         "2011-02-09 00:00:00",
         "-0.0022704986045107844",
         "0.0011462256427050566",
         "-0.0016372253339077547"
        ],
        [
         "2011-02-10 00:00:00",
         "0.0003931382258881566",
         "-0.0008995747464835002",
         "0.0015708613844294117"
        ],
        [
         "2011-02-11 00:00:00",
         "0.005962772349060286",
         "0.003928951461078967",
         "0.007221523241584871"
        ],
        [
         "2011-02-14 00:00:00",
         "0.0024040267447975605",
         "-0.00032613126783531676",
         "0.0023956194387406704"
        ],
        [
         "2011-02-15 00:00:00",
         "-0.003147717904519398",
         "-0.0033439360574177845",
         "-0.0013656538067599033"
        ],
        [
         "2011-02-16 00:00:00",
         "0.00631531463799706",
         "0.005564648117839521",
         "0.0065128205128204275"
        ],
        [
         "2011-02-17 00:00:00",
         "0.002988419872992143",
         "0.0022786458333332593",
         "-0.00035665155143427274"
        ],
        [
         "2011-02-18 00:00:00",
         "0.0020856610800745745",
         "0.003572588502760654",
         "-0.002208630648997678"
        ],
        [
         "2011-02-22 00:00:00",
         "-0.020069872890804974",
         "-0.01383495145631064",
         "-0.028946024178443608"
        ],
        [
         "2011-02-23 00:00:00",
         "-0.006144276720018271",
         "-0.0085322832061695",
         "-0.00824127652112916"
        ],
        [
         "2011-02-24 00:00:00",
         "-0.0006869180277820908",
         "-0.0035581299131153266",
         "0.00521570014144257"
        ],
        [
         "2011-02-25 00:00:00",
         "0.010692736576796813",
         "0.005979073243647326",
         "0.013982939055491972"
        ],
        [
         "2011-02-28 00:00:00",
         "0.00619662963802603",
         "0.008337460789169526",
         "0.002062012142237668"
        ],
        [
         "2011-03-01 00:00:00",
         "-0.016672925272249284",
         "-0.014572247237003677",
         "-0.01607916027445566"
        ],
        [
         "2011-03-02 00:00:00",
         "0.0021385473153594514",
         "0.0006646174295921181",
         "0.005277973258268842"
        ],
        [
         "2011-03-03 00:00:00",
         "0.017224296928587624",
         "0.015857202158571893",
         "0.01968848442422111"
        ],
        [
         "2011-03-04 00:00:00",
         "-0.007492320371619066",
         "-0.007265446224256289",
         "-0.0051059812923710535"
        ],
        [
         "2011-03-07 00:00:00",
         "-0.007850834151128527",
         "-0.006264869804315509",
         "-0.01341268814421881"
        ],
        [
         "2011-03-08 00:00:00",
         "0.008749904892338067",
         "0.010603926766630689",
         "0.0040216821122573965"
        ],
        [
         "2011-03-09 00:00:00",
         "-0.0014330969980390629",
         "0.00016394786457918364",
         "-0.006792058516196464"
        ],
        [
         "2011-03-10 00:00:00",
         "-0.018524813052345213",
         "-0.01868699286943698",
         "-0.015605821497457484"
        ],
        [
         "2011-03-11 00:00:00",
         "0.006945646945647033",
         "0.005762966675018744",
         "0.006234413965087393"
        ],
        [
         "2011-03-14 00:00:00",
         "-0.00603790889636191",
         "-0.004733432984554087",
         "-0.0035404496371039818"
        ],
        [
         "2011-03-15 00:00:00",
         "-0.011457131872356863",
         "-0.011848143512724119",
         "-0.014212115828743932"
        ]
       ],
       "shape": {
        "columns": 3,
        "rows": 2524
       }
      },
      "text/html": [
       "<div>\n",
       "<style scoped>\n",
       "    .dataframe tbody tr th:only-of-type {\n",
       "        vertical-align: middle;\n",
       "    }\n",
       "\n",
       "    .dataframe tbody tr th {\n",
       "        vertical-align: top;\n",
       "    }\n",
       "\n",
       "    .dataframe thead th {\n",
       "        text-align: right;\n",
       "    }\n",
       "</style>\n",
       "<table border=\"1\" class=\"dataframe\">\n",
       "  <thead>\n",
       "    <tr style=\"text-align: right;\">\n",
       "      <th></th>\n",
       "      <th>SPY US Equity</th>\n",
       "      <th>DIA US Equity</th>\n",
       "      <th>QQQ US Equity</th>\n",
       "    </tr>\n",
       "  </thead>\n",
       "  <tbody>\n",
       "    <tr>\n",
       "      <th>2011-01-03</th>\n",
       "      <td>0.010338</td>\n",
       "      <td>0.006746</td>\n",
       "      <td>0.015608</td>\n",
       "    </tr>\n",
       "    <tr>\n",
       "      <th>2011-01-04</th>\n",
       "      <td>-0.000551</td>\n",
       "      <td>0.001976</td>\n",
       "      <td>-0.000814</td>\n",
       "    </tr>\n",
       "    <tr>\n",
       "      <th>2011-01-05</th>\n",
       "      <td>0.005198</td>\n",
       "      <td>0.003429</td>\n",
       "      <td>0.008595</td>\n",
       "    </tr>\n",
       "    <tr>\n",
       "      <th>2011-01-06</th>\n",
       "      <td>-0.001959</td>\n",
       "      <td>-0.002221</td>\n",
       "      <td>0.003229</td>\n",
       "    </tr>\n",
       "    <tr>\n",
       "      <th>2011-01-07</th>\n",
       "      <td>-0.001962</td>\n",
       "      <td>-0.001798</td>\n",
       "      <td>-0.000894</td>\n",
       "    </tr>\n",
       "    <tr>\n",
       "      <th>...</th>\n",
       "      <td>...</td>\n",
       "      <td>...</td>\n",
       "      <td>...</td>\n",
       "    </tr>\n",
       "    <tr>\n",
       "      <th>2021-01-06</th>\n",
       "      <td>0.005979</td>\n",
       "      <td>0.014383</td>\n",
       "      <td>-0.013852</td>\n",
       "    </tr>\n",
       "    <tr>\n",
       "      <th>2021-01-07</th>\n",
       "      <td>0.014857</td>\n",
       "      <td>0.007430</td>\n",
       "      <td>0.024192</td>\n",
       "    </tr>\n",
       "    <tr>\n",
       "      <th>2021-01-08</th>\n",
       "      <td>0.005698</td>\n",
       "      <td>0.001739</td>\n",
       "      <td>0.012858</td>\n",
       "    </tr>\n",
       "    <tr>\n",
       "      <th>2021-01-11</th>\n",
       "      <td>-0.006741</td>\n",
       "      <td>-0.002797</td>\n",
       "      <td>-0.014450</td>\n",
       "    </tr>\n",
       "    <tr>\n",
       "      <th>2021-01-12</th>\n",
       "      <td>0.000211</td>\n",
       "      <td>0.001838</td>\n",
       "      <td>-0.001590</td>\n",
       "    </tr>\n",
       "  </tbody>\n",
       "</table>\n",
       "<p>2524 rows × 3 columns</p>\n",
       "</div>"
      ],
      "text/plain": [
       "            SPY US Equity  DIA US Equity  QQQ US Equity\n",
       "2011-01-03       0.010338       0.006746       0.015608\n",
       "2011-01-04      -0.000551       0.001976      -0.000814\n",
       "2011-01-05       0.005198       0.003429       0.008595\n",
       "2011-01-06      -0.001959      -0.002221       0.003229\n",
       "2011-01-07      -0.001962      -0.001798      -0.000894\n",
       "...                   ...            ...            ...\n",
       "2021-01-06       0.005979       0.014383      -0.013852\n",
       "2021-01-07       0.014857       0.007430       0.024192\n",
       "2021-01-08       0.005698       0.001739       0.012858\n",
       "2021-01-11      -0.006741      -0.002797      -0.014450\n",
       "2021-01-12       0.000211       0.001838      -0.001590\n",
       "\n",
       "[2524 rows x 3 columns]"
      ]
     },
     "execution_count": 2,
     "metadata": {},
     "output_type": "execute_result"
    }
   ],
   "source": [
    "df_in_sample_set"
   ]
  },
  {
   "cell_type": "code",
   "execution_count": 3,
   "id": "3f82cd2c",
   "metadata": {},
   "outputs": [
    {
     "data": {
      "image/png": "[encoded data removed]",
      "text/plain": [
       "<Figure size 800x800 with 6 Axes>"
      ]
     },
     "metadata": {},
     "output_type": "display_data"
    }
   ],
   "source": [
    "# Crée un sous-plot pour chaque série de prix\n",
    "fig, axes = plt.subplots(3, 2, figsize=(8, 8))\n",
    "\n",
    "for i, col in enumerate(df_in_sample_set.columns):\n",
    "    plot_acf(df_in_sample_set[col].dropna(), ax=axes[i, 0], lags=15)\n",
    "    plot_pacf(df_in_sample_set[col].dropna(), ax=axes[i, 1], lags=15)\n",
    "    axes[i, 0].set_title(f\"ACF de {col}\")\n",
    "    axes[i, 1].set_title(f\"PACF de {col}\")\n",
    "\n",
    "plt.tight_layout()\n",
    "plt.show()"
   ]
  },
  {
   "cell_type": "code",
   "execution_count": 4,
   "id": "eae7dec0",
   "metadata": {},
   "outputs": [
    {
     "name": "stdout",
     "output_type": "stream",
     "text": [
      "Mean Squared Error on test set: 7.937394714661469e-05\n"
     ]
    },
    {
     "data": {
      "image/png": "[encoded data removed]",
      "text/plain": [
       "<Figure size 1000x600 with 1 Axes>"
      ]
     },
     "metadata": {},
     "output_type": "display_data"
    }
   ],
   "source": [
    "spy_arma = arma_model(df_training_set['SPY US Equity'], (1,1))\n",
    "dia_arma = arma_model(df_training_set['DIA US Equity'], (1,1))\n",
    "qqq_arma = arma_model(df_training_set['QQQ US Equity'], (1,1))\n",
    "\n",
    "# New cell: Forecast predictions and compare with df_test_set\n",
    "import matplotlib.pyplot as plt\n",
    "from sklearn.metrics import mean_squared_error\n",
    "\n",
    "n_steps = len(df_training_set)\n",
    "spy_forecast = spy_arma.forecast(steps=n_steps)\n",
    "\n",
    "# Get the actual values for SPY from the test set\n",
    "spy_actual = df_training_set['SPY US Equity']\n",
    "\n",
    "# Calculate mean squared error\n",
    "mse = mean_squared_error(spy_actual, spy_forecast)\n",
    "print(\"Mean Squared Error on test set:\", mse)\n",
    "\n",
    "# Plot the actual values and the predictions\n",
    "plt.figure(figsize=(10,6))\n",
    "plt.plot(spy_actual.index, spy_actual.values, label='Actual')\n",
    "plt.plot(spy_actual.index, spy_forecast, label='Forecast', linestyle='--')\n",
    "plt.xlabel('Time')\n",
    "plt.ylabel('SPY US Equity')\n",
    "plt.title('SPY ARMA Forecast vs Actual')\n",
    "plt.legend()\n",
    "plt.show()"
   ]
  },
  {
   "cell_type": "code",
   "execution_count": 3,
   "id": "321b099e",
   "metadata": {},
   "outputs": [
    {
     "data": {
      "text/html": [
       "<table class=\"simpletable\">\n",
       "<caption>SARIMAX Results</caption>\n",
       "<tr>\n",
       "  <th>Dep. Variable:</th>     <td>SPY US Equity</td>  <th>  No. Observations:  </th>    <td>502</td>   \n",
       "</tr>\n",
       "<tr>\n",
       "  <th>Model:</th>            <td>ARIMA(1, 0, 1)</td>  <th>  Log Likelihood     </th> <td>1521.244</td> \n",
       "</tr>\n",
       "<tr>\n",
       "  <th>Date:</th>            <td>Sat, 03 May 2025</td> <th>  AIC                </th> <td>-3034.487</td>\n",
       "</tr>\n",
       "<tr>\n",
       "  <th>Time:</th>                <td>15:51:42</td>     <th>  BIC                </th> <td>-3017.613</td>\n",
       "</tr>\n",
       "<tr>\n",
       "  <th>Sample:</th>                  <td>0</td>        <th>  HQIC               </th> <td>-3027.867</td>\n",
       "</tr>\n",
       "<tr>\n",
       "  <th></th>                      <td> - 502</td>      <th>                     </th>     <td> </td>    \n",
       "</tr>\n",
       "<tr>\n",
       "  <th>Covariance Type:</th>        <td>opg</td>       <th>                     </th>     <td> </td>    \n",
       "</tr>\n",
       "</table>\n",
       "<table class=\"simpletable\">\n",
       "<tr>\n",
       "     <td></td>       <th>coef</th>     <th>std err</th>      <th>z</th>      <th>P>|z|</th>  <th>[0.025</th>    <th>0.975]</th>  \n",
       "</tr>\n",
       "<tr>\n",
       "  <th>const</th>  <td>    0.0003</td> <td>    0.001</td> <td>    0.596</td> <td> 0.551</td> <td>   -0.001</td> <td>    0.001</td>\n",
       "</tr>\n",
       "<tr>\n",
       "  <th>ar.L1</th>  <td>   -0.0357</td> <td>    0.390</td> <td>   -0.092</td> <td> 0.927</td> <td>   -0.800</td> <td>    0.729</td>\n",
       "</tr>\n",
       "<tr>\n",
       "  <th>ma.L1</th>  <td>   -0.0357</td> <td>    0.396</td> <td>   -0.090</td> <td> 0.928</td> <td>   -0.813</td> <td>    0.741</td>\n",
       "</tr>\n",
       "<tr>\n",
       "  <th>sigma2</th> <td>    0.0001</td> <td> 5.93e-06</td> <td>   23.014</td> <td> 0.000</td> <td>    0.000</td> <td>    0.000</td>\n",
       "</tr>\n",
       "</table>\n",
       "<table class=\"simpletable\">\n",
       "<tr>\n",
       "  <th>Ljung-Box (L1) (Q):</th>     <td>0.00</td> <th>  Jarque-Bera (JB):  </th> <td>306.04</td>\n",
       "</tr>\n",
       "<tr>\n",
       "  <th>Prob(Q):</th>                <td>1.00</td> <th>  Prob(JB):          </th>  <td>0.00</td> \n",
       "</tr>\n",
       "<tr>\n",
       "  <th>Heteroskedasticity (H):</th> <td>0.44</td> <th>  Skew:              </th>  <td>-0.47</td>\n",
       "</tr>\n",
       "<tr>\n",
       "  <th>Prob(H) (two-sided):</th>    <td>0.00</td> <th>  Kurtosis:          </th>  <td>6.71</td> \n",
       "</tr>\n",
       "</table><br/><br/>Warnings:<br/>[1] Covariance matrix calculated using the outer product of gradients (complex-step)."
      ],
      "text/latex": [
       "\\begin{center}\n",
       "\\begin{tabular}{lclc}\n",
       "\\toprule\n",
       "\\textbf{Dep. Variable:}          &  SPY US Equity   & \\textbf{  No. Observations:  } &    502      \\\\\n",
       "\\textbf{Model:}                  &  ARIMA(1, 0, 1)  & \\textbf{  Log Likelihood     } &  1521.244   \\\\\n",
       "\\textbf{Date:}                   & Sat, 03 May 2025 & \\textbf{  AIC                } & -3034.487   \\\\\n",
       "\\textbf{Time:}                   &     15:51:42     & \\textbf{  BIC                } & -3017.613   \\\\\n",
       "\\textbf{Sample:}                 &        0         & \\textbf{  HQIC               } & -3027.867   \\\\\n",
       "\\textbf{}                        &       - 502      & \\textbf{                     } &             \\\\\n",
       "\\textbf{Covariance Type:}        &       opg        & \\textbf{                     } &             \\\\\n",
       "\\bottomrule\n",
       "\\end{tabular}\n",
       "\\begin{tabular}{lcccccc}\n",
       "                & \\textbf{coef} & \\textbf{std err} & \\textbf{z} & \\textbf{P$> |$z$|$} & \\textbf{[0.025} & \\textbf{0.975]}  \\\\\n",
       "\\midrule\n",
       "\\textbf{const}  &       0.0003  &        0.001     &     0.596  &         0.551        &       -0.001    &        0.001     \\\\\n",
       "\\textbf{ar.L1}  &      -0.0357  &        0.390     &    -0.092  &         0.927        &       -0.800    &        0.729     \\\\\n",
       "\\textbf{ma.L1}  &      -0.0357  &        0.396     &    -0.090  &         0.928        &       -0.813    &        0.741     \\\\\n",
       "\\textbf{sigma2} &       0.0001  &     5.93e-06     &    23.014  &         0.000        &        0.000    &        0.000     \\\\\n",
       "\\bottomrule\n",
       "\\end{tabular}\n",
       "\\begin{tabular}{lclc}\n",
       "\\textbf{Ljung-Box (L1) (Q):}     & 0.00 & \\textbf{  Jarque-Bera (JB):  } & 306.04  \\\\\n",
       "\\textbf{Prob(Q):}                & 1.00 & \\textbf{  Prob(JB):          } &  0.00   \\\\\n",
       "\\textbf{Heteroskedasticity (H):} & 0.44 & \\textbf{  Skew:              } & -0.47   \\\\\n",
       "\\textbf{Prob(H) (two-sided):}    & 0.00 & \\textbf{  Kurtosis:          } &  6.71   \\\\\n",
       "\\bottomrule\n",
       "\\end{tabular}\n",
       "%\\caption{SARIMAX Results}\n",
       "\\end{center}\n",
       "\n",
       "Warnings: \\newline\n",
       " [1] Covariance matrix calculated using the outer product of gradients (complex-step)."
      ],
      "text/plain": [
       "<class 'statsmodels.iolib.summary.Summary'>\n",
       "\"\"\"\n",
       "                               SARIMAX Results                                \n",
       "==============================================================================\n",
       "Dep. Variable:          SPY US Equity   No. Observations:                  502\n",
       "Model:                 ARIMA(1, 0, 1)   Log Likelihood                1521.244\n",
       "Date:                Sat, 03 May 2025   AIC                          -3034.487\n",
       "Time:                        15:51:42   BIC                          -3017.613\n",
       "Sample:                             0   HQIC                         -3027.867\n",
       "                                - 502                                         \n",
       "Covariance Type:                  opg                                         \n",
       "==============================================================================\n",
       "                 coef    std err          z      P>|z|      [0.025      0.975]\n",
       "------------------------------------------------------------------------------\n",
       "const          0.0003      0.001      0.596      0.551      -0.001       0.001\n",
       "ar.L1         -0.0357      0.390     -0.092      0.927      -0.800       0.729\n",
       "ma.L1         -0.0357      0.396     -0.090      0.928      -0.813       0.741\n",
       "sigma2         0.0001   5.93e-06     23.014      0.000       0.000       0.000\n",
       "===================================================================================\n",
       "Ljung-Box (L1) (Q):                   0.00   Jarque-Bera (JB):               306.04\n",
       "Prob(Q):                              1.00   Prob(JB):                         0.00\n",
       "Heteroskedasticity (H):               0.44   Skew:                            -0.47\n",
       "Prob(H) (two-sided):                  0.00   Kurtosis:                         6.71\n",
       "===================================================================================\n",
       "\n",
       "Warnings:\n",
       "[1] Covariance matrix calculated using the outer product of gradients (complex-step).\n",
       "\"\"\""
      ]
     },
     "execution_count": 3,
     "metadata": {},
     "output_type": "execute_result"
    }
   ],
   "source": [
    "spy_arma.summary()"
   ]
  },
  {
   "cell_type": "code",
   "execution_count": null,
   "id": "63108cc9",
   "metadata": {},
   "outputs": [],
   "source": [
    "spy_arma = arma_model(df_training_set['SPY US Equity'], (1,1))\n",
    "dia_arma = arma_model(df_training_set['DIA US Equity'], (1,1))\n",
    "qqq_arma = arma_model(df_training_set['QQQ US Equity'], (1,1))"
   ]
  },
  {
   "cell_type": "code",
   "execution_count": 12,
   "id": "3816efc1",
   "metadata": {},
   "outputs": [
    {
     "data": {
      "text/html": [
       "<table class=\"simpletable\">\n",
       "<caption>SARIMAX Results</caption>\n",
       "<tr>\n",
       "  <th>Dep. Variable:</th>     <td>SPY US Equity</td>  <th>  No. Observations:  </th>    <td>502</td>   \n",
       "</tr>\n",
       "<tr>\n",
       "  <th>Model:</th>            <td>ARIMA(1, 0, 1)</td>  <th>  Log Likelihood     </th> <td>1521.244</td> \n",
       "</tr>\n",
       "<tr>\n",
       "  <th>Date:</th>            <td>Sat, 03 May 2025</td> <th>  AIC                </th> <td>-3034.487</td>\n",
       "</tr>\n",
       "<tr>\n",
       "  <th>Time:</th>                <td>15:45:34</td>     <th>  BIC                </th> <td>-3017.613</td>\n",
       "</tr>\n",
       "<tr>\n",
       "  <th>Sample:</th>                  <td>0</td>        <th>  HQIC               </th> <td>-3027.867</td>\n",
       "</tr>\n",
       "<tr>\n",
       "  <th></th>                      <td> - 502</td>      <th>                     </th>     <td> </td>    \n",
       "</tr>\n",
       "<tr>\n",
       "  <th>Covariance Type:</th>        <td>opg</td>       <th>                     </th>     <td> </td>    \n",
       "</tr>\n",
       "</table>\n",
       "<table class=\"simpletable\">\n",
       "<tr>\n",
       "     <td></td>       <th>coef</th>     <th>std err</th>      <th>z</th>      <th>P>|z|</th>  <th>[0.025</th>    <th>0.975]</th>  \n",
       "</tr>\n",
       "<tr>\n",
       "  <th>const</th>  <td>    0.0003</td> <td>    0.001</td> <td>    0.596</td> <td> 0.551</td> <td>   -0.001</td> <td>    0.001</td>\n",
       "</tr>\n",
       "<tr>\n",
       "  <th>ar.L1</th>  <td>   -0.0357</td> <td>    0.390</td> <td>   -0.092</td> <td> 0.927</td> <td>   -0.800</td> <td>    0.729</td>\n",
       "</tr>\n",
       "<tr>\n",
       "  <th>ma.L1</th>  <td>   -0.0357</td> <td>    0.396</td> <td>   -0.090</td> <td> 0.928</td> <td>   -0.813</td> <td>    0.741</td>\n",
       "</tr>\n",
       "<tr>\n",
       "  <th>sigma2</th> <td>    0.0001</td> <td> 5.93e-06</td> <td>   23.014</td> <td> 0.000</td> <td>    0.000</td> <td>    0.000</td>\n",
       "</tr>\n",
       "</table>\n",
       "<table class=\"simpletable\">\n",
       "<tr>\n",
       "  <th>Ljung-Box (L1) (Q):</th>     <td>0.00</td> <th>  Jarque-Bera (JB):  </th> <td>306.04</td>\n",
       "</tr>\n",
       "<tr>\n",
       "  <th>Prob(Q):</th>                <td>1.00</td> <th>  Prob(JB):          </th>  <td>0.00</td> \n",
       "</tr>\n",
       "<tr>\n",
       "  <th>Heteroskedasticity (H):</th> <td>0.44</td> <th>  Skew:              </th>  <td>-0.47</td>\n",
       "</tr>\n",
       "<tr>\n",
       "  <th>Prob(H) (two-sided):</th>    <td>0.00</td> <th>  Kurtosis:          </th>  <td>6.71</td> \n",
       "</tr>\n",
       "</table><br/><br/>Warnings:<br/>[1] Covariance matrix calculated using the outer product of gradients (complex-step)."
      ],
      "text/latex": [
       "\\begin{center}\n",
       "\\begin{tabular}{lclc}\n",
       "\\toprule\n",
       "\\textbf{Dep. Variable:}          &  SPY US Equity   & \\textbf{  No. Observations:  } &    502      \\\\\n",
       "\\textbf{Model:}                  &  ARIMA(1, 0, 1)  & \\textbf{  Log Likelihood     } &  1521.244   \\\\\n",
       "\\textbf{Date:}                   & Sat, 03 May 2025 & \\textbf{  AIC                } & -3034.487   \\\\\n",
       "\\textbf{Time:}                   &     15:45:34     & \\textbf{  BIC                } & -3017.613   \\\\\n",
       "\\textbf{Sample:}                 &        0         & \\textbf{  HQIC               } & -3027.867   \\\\\n",
       "\\textbf{}                        &       - 502      & \\textbf{                     } &             \\\\\n",
       "\\textbf{Covariance Type:}        &       opg        & \\textbf{                     } &             \\\\\n",
       "\\bottomrule\n",
       "\\end{tabular}\n",
       "\\begin{tabular}{lcccccc}\n",
       "                & \\textbf{coef} & \\textbf{std err} & \\textbf{z} & \\textbf{P$> |$z$|$} & \\textbf{[0.025} & \\textbf{0.975]}  \\\\\n",
       "\\midrule\n",
       "\\textbf{const}  &       0.0003  &        0.001     &     0.596  &         0.551        &       -0.001    &        0.001     \\\\\n",
       "\\textbf{ar.L1}  &      -0.0357  &        0.390     &    -0.092  &         0.927        &       -0.800    &        0.729     \\\\\n",
       "\\textbf{ma.L1}  &      -0.0357  &        0.396     &    -0.090  &         0.928        &       -0.813    &        0.741     \\\\\n",
       "\\textbf{sigma2} &       0.0001  &     5.93e-06     &    23.014  &         0.000        &        0.000    &        0.000     \\\\\n",
       "\\bottomrule\n",
       "\\end{tabular}\n",
       "\\begin{tabular}{lclc}\n",
       "\\textbf{Ljung-Box (L1) (Q):}     & 0.00 & \\textbf{  Jarque-Bera (JB):  } & 306.04  \\\\\n",
       "\\textbf{Prob(Q):}                & 1.00 & \\textbf{  Prob(JB):          } &  0.00   \\\\\n",
       "\\textbf{Heteroskedasticity (H):} & 0.44 & \\textbf{  Skew:              } & -0.47   \\\\\n",
       "\\textbf{Prob(H) (two-sided):}    & 0.00 & \\textbf{  Kurtosis:          } &  6.71   \\\\\n",
       "\\bottomrule\n",
       "\\end{tabular}\n",
       "%\\caption{SARIMAX Results}\n",
       "\\end{center}\n",
       "\n",
       "Warnings: \\newline\n",
       " [1] Covariance matrix calculated using the outer product of gradients (complex-step)."
      ],
      "text/plain": [
       "<class 'statsmodels.iolib.summary.Summary'>\n",
       "\"\"\"\n",
       "                               SARIMAX Results                                \n",
       "==============================================================================\n",
       "Dep. Variable:          SPY US Equity   No. Observations:                  502\n",
       "Model:                 ARIMA(1, 0, 1)   Log Likelihood                1521.244\n",
       "Date:                Sat, 03 May 2025   AIC                          -3034.487\n",
       "Time:                        15:45:34   BIC                          -3017.613\n",
       "Sample:                             0   HQIC                         -3027.867\n",
       "                                - 502                                         \n",
       "Covariance Type:                  opg                                         \n",
       "==============================================================================\n",
       "                 coef    std err          z      P>|z|      [0.025      0.975]\n",
       "------------------------------------------------------------------------------\n",
       "const          0.0003      0.001      0.596      0.551      -0.001       0.001\n",
       "ar.L1         -0.0357      0.390     -0.092      0.927      -0.800       0.729\n",
       "ma.L1         -0.0357      0.396     -0.090      0.928      -0.813       0.741\n",
       "sigma2         0.0001   5.93e-06     23.014      0.000       0.000       0.000\n",
       "===================================================================================\n",
       "Ljung-Box (L1) (Q):                   0.00   Jarque-Bera (JB):               306.04\n",
       "Prob(Q):                              1.00   Prob(JB):                         0.00\n",
       "Heteroskedasticity (H):               0.44   Skew:                            -0.47\n",
       "Prob(H) (two-sided):                  0.00   Kurtosis:                         6.71\n",
       "===================================================================================\n",
       "\n",
       "Warnings:\n",
       "[1] Covariance matrix calculated using the outer product of gradients (complex-step).\n",
       "\"\"\""
      ]
     },
     "execution_count": 12,
     "metadata": {},
     "output_type": "execute_result"
    }
   ],
   "source": [
    "spy_arma.summary()"
   ]
  },
  {
   "cell_type": "code",
   "execution_count": null,
   "id": "bc984033",
   "metadata": {},
   "outputs": [],
   "source": [
    "spy_test = spy_arma"
   ]
  },
  {
   "cell_type": "code",
   "execution_count": 9,
   "id": "9f0202c1",
   "metadata": {},
   "outputs": [
    {
     "data": {
      "text/plain": [
       "2011-01-03    0.000308\n",
       "2011-01-04   -0.000406\n",
       "2011-01-05    0.000344\n",
       "2011-01-06   -0.000040\n",
       "2011-01-07    0.000458\n",
       "                ...   \n",
       "2012-12-24    0.001463\n",
       "2012-12-26    0.000591\n",
       "2012-12-27    0.000641\n",
       "2012-12-28    0.000437\n",
       "2012-12-31    0.001107\n",
       "Name: predicted_mean, Length: 502, dtype: float64"
      ]
     },
     "execution_count": 9,
     "metadata": {},
     "output_type": "execute_result"
    }
   ],
   "source": [
    "spy_test"
   ]
  },
  {
   "cell_type": "code",
   "execution_count": null,
   "id": "49f05128",
   "metadata": {},
   "outputs": [],
   "source": []
  }
 ],
 "metadata": {
  "kernelspec": {
   "display_name": ".venv",
   "language": "python",
   "name": "python3"
  },
  "language_info": {
   "codemirror_mode": {
    "name": "ipython",
    "version": 3
   },
   "file_extension": ".py",
   "mimetype": "text/x-python",
   "name": "python",
   "nbconvert_exporter": "python",
   "pygments_lexer": "ipython3",
   "version": "3.13.0"
  }
 },
 "nbformat": 4,
 "nbformat_minor": 5
}
